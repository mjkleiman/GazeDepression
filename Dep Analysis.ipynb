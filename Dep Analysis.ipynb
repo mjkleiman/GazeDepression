{
 "cells": [
  {
   "cell_type": "code",
   "execution_count": 1,
   "metadata": {
    "collapsed": true
   },
   "outputs": [],
   "source": [
    "import numpy as np\n",
    "import pandas as pd\n",
    "import os\n",
    "import glob\n",
    "\n",
    "import seaborn as sns\n",
    "import matplotlib.pyplot as plt\n",
    "%matplotlib inline\n",
    "\n",
    "directory = 'D:/OneDrive/EM-AnxDep/Data/'\n",
    "df_2x2 = pd.read_csv('2x2_Dep.csv')\n",
    "df_VPC = pd.read_csv('VPC_Dep.csv')"
   ]
  },
  {
   "cell_type": "code",
   "execution_count": 2,
   "metadata": {
    "collapsed": true
   },
   "outputs": [],
   "source": [
    "df_VPC = df_VPC[['P_x','TFD_Rec','FC_Rec','TVD_Rec','VC_Rec','TFD_Dst','FC_Dst','TVD_Dst','VC_Dst','Group']].copy()\n",
    "\n",
    "df_All = df_2x2.merge(df_VPC, left_index=True, right_index=True)\n",
    "\n",
    "df_All = df_All.iloc[:,[0,1,2,3,4,5,6,7,8,11,12,13,14,15,16,17,18,19]]"
   ]
  },
  {
   "cell_type": "code",
   "execution_count": 3,
   "metadata": {
    "collapsed": true
   },
   "outputs": [],
   "source": [
    "### If uncommented, accuracy rates drop to 80% logreg / 72% SVM ###\n",
    "\n",
    "#df_All[['TFD_N','TFD_0','TFD_Dst','TFD_Rec']] = df_All[['TFD_N','TFD_0','TFD_Dst','TFD_Rec']]/5\n",
    "#df_All[['FC_N','FC_0','FC_Dst','FC_Rec']] = df_All[['FC_N','FC_0','FC_Dst','FC_Rec']]/20\n",
    "#df_All[['TVD_N','TVD_0','TVD_Dst','TVD_Rec']] = df_All[['TVD_N','TVD_0','TVD_Dst','TVD_Rec']]/5\n",
    "#df_All[['VC_N','VC_0','VC_Dst','VC_Rec']] = df_All[['VC_N','VC_0','VC_Dst','VC_Rec']]/10"
   ]
  },
  {
   "cell_type": "code",
   "execution_count": 52,
   "metadata": {
    "collapsed": false
   },
   "outputs": [
    {
     "data": {
      "text/plain": [
       "0.8035714285714286"
      ]
     },
     "execution_count": 52,
     "metadata": {},
     "output_type": "execute_result"
    }
   ],
   "source": [
    "from sklearn.linear_model import LogisticRegression\n",
    "from sklearn.metrics import accuracy_score\n",
    "from sklearn.model_selection import train_test_split\n",
    "\n",
    "X = df_All[['TFD_N','TFD_0','FC_N','FC_0','TVD_N','TVD_0','VC_N','VC_0','TFD_Rec','TFD_Dst','TVD_Rec','TVD_Dst','FC_Rec','FC_Dst','VC_Rec','VC_Dst']]\n",
    "y = df_All['Group_y']\n",
    "X_train, X_test, y_train, y_test = train_test_split(X,y, test_size=0.33)\n",
    "\n",
    "\n",
    "lr = LogisticRegression()\n",
    "lr.fit(X_train,y_train)\n",
    "preds = lr.predict(X_test)\n",
    "\n",
    "accuracy_score(y_test,preds)"
   ]
  },
  {
   "cell_type": "code",
   "execution_count": 53,
   "metadata": {
    "collapsed": false
   },
   "outputs": [
    {
     "data": {
      "text/plain": [
       "0.8214285714285714"
      ]
     },
     "execution_count": 53,
     "metadata": {},
     "output_type": "execute_result"
    }
   ],
   "source": [
    "from sklearn import svm\n",
    "\n",
    "#X = df_All[['TFD_N','TFD_0','FC_N','FC_0','TVD_N','TVD_0','VC_N','VC_0','TFD_Rec','TFD_Dst','TVD_Rec','TVD_Dst','FC_Rec','FC_Dst','VC_Rec','VC_Dst']]\n",
    "#y = df_All['Group_y']\n",
    "clf = svm.SVC()\n",
    "clf.fit(X_train,y_train)\n",
    "\n",
    "preds = clf.predict(X_test)\n",
    "accuracy_score(y_test,preds)"
   ]
  },
  {
   "cell_type": "code",
   "execution_count": null,
   "metadata": {
    "collapsed": true
   },
   "outputs": [],
   "source": []
  }
 ],
 "metadata": {
  "kernelspec": {
   "display_name": "Python 3",
   "language": "python",
   "name": "python3"
  },
  "language_info": {
   "codemirror_mode": {
    "name": "ipython",
    "version": 3
   },
   "file_extension": ".py",
   "mimetype": "text/x-python",
   "name": "python",
   "nbconvert_exporter": "python",
   "pygments_lexer": "ipython3",
   "version": "3.6.0"
  }
 },
 "nbformat": 4,
 "nbformat_minor": 2
}
