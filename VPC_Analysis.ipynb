{
 "cells": [
  {
   "cell_type": "code",
   "execution_count": 2,
   "metadata": {
    "collapsed": true
   },
   "outputs": [],
   "source": [
    "#df_VPC['510'].head() #display data for one stimulus\n",
    "#df_VPC['501'].iloc[:,[0,2,4,6]].head() #Display 3rd/5th column only"
   ]
  },
  {
   "cell_type": "code",
   "execution_count": 7,
   "metadata": {
    "collapsed": true
   },
   "outputs": [],
   "source": [
    "import numpy as np\n",
    "import pandas as pd\n",
    "import os\n",
    "import glob\n",
    "\n",
    "##Desktop\n",
    "directory = 'E:/OneDrive/EM-AnxDep/Data/'\n",
    "##Surface\n",
    "#directory = 'C:/Users/mjkle/OneDrive/EM-AnxDep/Data/'\n",
    "cond = 'VPC'\n",
    "\n",
    "nameList = []\n",
    "fileList = os.listdir(directory + cond)\n",
    "#pathList = glob.glob('E:/Py/EGC Mood/' + block + '/' + cond + '/*.txt') #Use if separating by block\n",
    "pathList = glob.glob(directory + cond + '/*.txt') #Use if block irrelevant\n",
    "\n",
    "for f in fileList:\n",
    "    name = f[:3]\n",
    "    nameList.append(name)\n",
    "\n",
    "'''Use for VPC. Columns set to appropriate shorthand values'''\n",
    "df_VPC = {}\n",
    "for k, v in zip(nameList,pathList):\n",
    "    df_VPC[k] = pd.read_csv(v, sep='\\t', header=0, index_col=0, skipfooter=1, engine='python')\n",
    "    df_VPC[k].columns = ['TFD_-','TFD_*','FC_-','FC_*','TVD_-','TVD_*','VC_-','VC_*']\n",
    "\n",
    "    \n",
    "    \n",
    "### ---- Stimulus initialization ---- ### \n",
    "\n",
    "# Image types/numbers\n",
    "\n",
    "# Anxiety (F, T)\n",
    "A_Imgs = ['500','510','512','514','516','518','519','522','523','526','528','529','530','531','532','534','536','537','539','540']\n",
    "F_Imgs = ['500','510','514','516','519','523','529','531','532','534','536','540']\n",
    "T_Imgs = ['512','515','516','518','522','526','528','530','531','532','536','537','539','540']    \n",
    "    \n",
    "# Depressive (0, N)\n",
    "D_Imgs = ['501','503','504','505','506','507','508','509','511','513','517','523','525','527','533','535','537','538']\n",
    "    \n",
    "# Positive/Neutral\n",
    "P_Imgs = ['500','501','502','503','504','510','513','514','515','517','518','522','524','526','528','529','533','535','538']\n",
    "Z_Imgs = ['502','505','506','507','508','509','511','512','519','524','525','527','531','534','539','540']\n",
    "\n",
    "#Dicts of which items are novel and which are previously seen\n",
    "df_VPCitems = pd.read_csv('VPCitems.csv', header=1, index_col=0)\n",
    "old_Items = df_VPCitems['Old'].to_dict()\n",
    "new_Items = df_VPCitems['New'].to_dict()\n",
    "\n",
    "A_Recog = ['500','510','514','529','532','536','512','516','518','522','530','531','539']\n",
    "A_Dtrct = ['500','516','519','523','531','534','515','526','528','531','532','536','537','540']\n",
    "F_Recog = ['500','510','514','529','532','536']\n",
    "F_Dtrct = ['500','516','519','523','531','534']\n",
    "T_Recog = ['512','516','518','522','530','531','539']  \n",
    "T_Dtrct = ['515','526','528','531','532','536','537','540']  \n",
    "D_Recog = ['506','509','511','513','517','523','525','535'] #Removed 504 to keep numbers even between 2x2 and VPC\n",
    "D_Dtrct = ['503','505','507','508','527','533','537','538'] #Removed 501 to keep numbers even between 2x2 and VPC\n",
    "P_Recog = ['501','502','503','515','524','526','528','533','538']\n",
    "P_Dtrct = ['500','504','510','513','514','517','518','522','529','535']\n",
    "Z_Recog = ['505','507','508','519','527','531','534','540']\n",
    "Z_Dtrct = ['502','506','509','511','512','524','525','539']\n",
    "\n",
    "\n",
    "# Participant groups:\n",
    "\n",
    "### GROUP 1 (Prelim) ###\n",
    "#HighA = [8, 9, 11, 13, 16, 31, 36, 37, 39, 41, 49, 53, 58, 59] #N=14\n",
    "#LowA = [1, 5, 7, 10, 14, 15, 17, 18, 19, 23, 24, 25, 26, 27, 28, 32, 45, 48, 50, 52, 61] #N=21\n",
    "#HighD = [11, 13, 16, 36, 41, 43, 53, 58] #N=8\n",
    "#LowD = [1, 10, 17, 18, 21, 23, 24, 25, 26, 28, 34, 39, 44, 51, 52, 57, 59, 61, 64] #N=19\n",
    "\n",
    "### GROUP 2 (Extreme scores) ###\n",
    "HighA = [9, 13, 16, 36, 37, 39, 41, 49, 53, 58]\n",
    "LowA = [1, 5, 7, 10, 14, 18, 19, 23, 28, 32, 45, 48, 50, 52, 61] \n",
    "HighD = [36, 39, 41, 43, 53, 58]\n",
    "LowD = [2, 10, 18, 21, 24, 25, 28, 34, 48, 51, 52, 57, 59, 61, 64]\n",
    "\n",
    "### GROUP 3 (Extreme High vs all others) ###\n"
   ]
  },
  {
   "cell_type": "markdown",
   "metadata": {
    "collapsed": true
   },
   "source": [
    "## df Creation"
   ]
  },
  {
   "cell_type": "code",
   "execution_count": 8,
   "metadata": {
    "collapsed": true
   },
   "outputs": [],
   "source": [
    "### A ###\n",
    "# Convert subframes for separate stimuli into one large dataframe    \n",
    "frames = []\n",
    "for f in A_Imgs:\n",
    "    frames.append(df_VPC[f])\n",
    "df_A = pd.concat(frames, keys=A_Imgs)\n",
    "# Convert stimulus (Img) index into a column, keep participant IDs as index (for easy selection)\n",
    "df_A.index.names = ['Img','P']\n",
    "df_A = df_A.reset_index(level='Img')\n",
    "\n",
    "### F ###\n",
    "# Convert subframes for separate stimuli into one large dataframe    \n",
    "frames = []\n",
    "for f in F_Imgs:\n",
    "    frames.append(df_VPC[f])\n",
    "df_F = pd.concat(frames, keys=F_Imgs)\n",
    "# Convert stimulus (Img) index into a column, keep participant IDs as index (for easy selection)\n",
    "df_F.index.names = ['Img','P']\n",
    "df_F = df_F.reset_index(level='Img')\n",
    "\n",
    "### T ###\n",
    "# Convert subframes for separate stimuli into one large dataframe    \n",
    "frames = []\n",
    "for f in T_Imgs:\n",
    "    frames.append(df_VPC[f])\n",
    "df_T = pd.concat(frames, keys=T_Imgs)\n",
    "# Convert stimulus (Img) index into a column, keep participant IDs as index (for easy selection)\n",
    "df_T.index.names = ['Img','P']\n",
    "df_T = df_T.reset_index(level='Img')\n",
    "\n",
    "### D ###\n",
    "# Convert subframes for separate stimuli into one large dataframe    \n",
    "frames = []\n",
    "for f in D_Imgs:\n",
    "    frames.append(df_VPC[f])\n",
    "df_D = pd.concat(frames, keys=D_Imgs)\n",
    "# Convert stimulus (Img) index into a column, keep participant IDs as index (for easy selection)\n",
    "df_D.index.names = ['Img','P']\n",
    "df_D = df_D.reset_index(level='Img')\n",
    "\n",
    "### P ###\n",
    "# Convert subframes for separate stimuli into one large dataframe    \n",
    "frames = []\n",
    "for f in P_Imgs:\n",
    "    frames.append(df_VPC[f])\n",
    "df_P = pd.concat(frames, keys=P_Imgs)\n",
    "# Convert stimulus (Img) index into a column, keep participant IDs as index (for easy selection)\n",
    "df_P.index.names = ['Img','P']\n",
    "df_P = df_P.reset_index(level='Img')\n",
    "\n",
    "### Z ###\n",
    "# Convert subframes for separate stimuli into one large dataframe    \n",
    "frames = []\n",
    "for f in Z_Imgs:\n",
    "    frames.append(df_VPC[f])\n",
    "df_Z = pd.concat(frames, keys=Z_Imgs)\n",
    "# Convert stimulus (Img) index into a column, keep participant IDs as index (for easy selection)\n",
    "df_Z.index.names = ['Img','P']\n",
    "df_Z = df_Z.reset_index(level='Img')"
   ]
  },
  {
   "cell_type": "markdown",
   "metadata": {},
   "source": [
    "### Target/Distractor separation"
   ]
  },
  {
   "cell_type": "code",
   "execution_count": 9,
   "metadata": {
    "collapsed": true
   },
   "outputs": [],
   "source": [
    "''' \n",
    "If i in RECOG_List, SELECT cols WHERE col_index = 2,4,6,8\n",
    "If i in DIST_List, SELECT cols WHERE col_index = 1,3,5,7\n",
    "'''\n",
    "\n",
    "A_Rec = df_A.loc[df_A['Img'].isin(A_Recog)].iloc[:,[0,2,4,6,8]].copy()\n",
    "A_Rec.columns = ['Img','TFD','FC','TVD','VC']\n",
    "A_Rec['StimType'] = 'Rec'\n",
    "A_Dst = df_A.loc[df_A['Img'].isin(A_Dtrct)].iloc[:,[0,1,3,5,7]].copy()\n",
    "A_Dst.columns = ['Img','TFD','FC','TVD','VC']\n",
    "A_Dst['StimType'] = 'Dst'\n",
    "\n",
    "F_Rec = df_F.loc[df_F['Img'].isin(F_Recog)].iloc[:,[0,2,4,6,8]].copy()\n",
    "F_Rec.columns = ['Img','TFD','FC','TVD','VC']\n",
    "F_Rec['StimType'] = 'Rec'\n",
    "F_Dst = df_F.loc[df_F['Img'].isin(F_Dtrct)].iloc[:,[0,1,3,5,7]].copy()\n",
    "F_Dst.columns = ['Img','TFD','FC','TVD','VC']\n",
    "F_Dst['StimType'] = 'Dst'\n",
    "\n",
    "T_Rec = df_T.loc[df_T['Img'].isin(T_Recog)].iloc[:,[0,2,4,6,8]].copy()\n",
    "T_Rec.columns = ['Img','TFD','FC','TVD','VC']\n",
    "T_Rec['StimType'] = 'Rec'\n",
    "T_Dst = df_T.loc[df_T['Img'].isin(T_Dtrct)].iloc[:,[0,1,3,5,7]].copy()\n",
    "T_Dst.columns = ['Img','TFD','FC','TVD','VC']\n",
    "T_Dst['StimType'] = 'Dst'\n",
    "\n",
    "D_Rec = df_D.loc[df_D['Img'].isin(D_Recog)].iloc[:,[0,2,4,6,8]].copy()\n",
    "D_Rec.columns = ['Img','TFD','FC','TVD','VC']\n",
    "D_Rec['StimType'] = 'Rec'\n",
    "D_Dst = df_D.loc[df_D['Img'].isin(D_Dtrct)].iloc[:,[0,1,3,5,7]].copy()\n",
    "D_Dst.columns = ['Img','TFD','FC','TVD','VC']\n",
    "D_Dst['StimType'] = 'Dst'\n",
    "\n",
    "P_Rec = df_P.loc[df_P['Img'].isin(P_Recog)].iloc[:,[0,2,4,6,8]].copy()\n",
    "P_Rec.columns = ['Img','TFD','FC','TVD','VC']\n",
    "P_Rec['StimType'] = 'Rec'\n",
    "P_Dst = df_P.loc[df_P['Img'].isin(P_Dtrct)].iloc[:,[0,1,3,5,7]].copy()\n",
    "P_Dst.columns = ['Img','TFD','FC','TVD','VC']\n",
    "P_Dst['StimType'] = 'Dst'\n",
    "\n",
    "Z_Rec = df_Z.loc[df_Z['Img'].isin(Z_Recog)].iloc[:,[0,2,4,6,8]].copy()\n",
    "Z_Rec.columns = ['Img','TFD','FC','TVD','VC']\n",
    "Z_Rec['StimType'] = 'Rec'\n",
    "Z_Dst = df_Z.loc[df_Z['Img'].isin(Z_Dtrct)].iloc[:,[0,1,3,5,7]].copy()\n",
    "Z_Dst.columns = ['Img','TFD','FC','TVD','VC']\n",
    "Z_Dst['StimType'] = 'Dst'"
   ]
  },
  {
   "cell_type": "code",
   "execution_count": 68,
   "metadata": {
    "collapsed": true,
    "scrolled": true
   },
   "outputs": [],
   "source": [
    "D_Rec2 = df_D.loc[df_D['Img'].isin(D_Recog)].iloc[:,[2,4,6,8]].copy()\n",
    "D_Rec2.columns = ['TFD_Rec','FC_Rec','TVD_Rec','VC_Rec']\n",
    "D_HighRec = D_Rec2.loc[HighD,:].copy()\n",
    "D_HighRec = D_HighRec.reset_index()\n",
    "D_LowRec = D_Rec2.loc[LowD,:].copy()\n",
    "D_LowRec = D_LowRec.reset_index()\n",
    "\n",
    "D_Dst2 = df_D.loc[df_D['Img'].isin(D_Dtrct)].iloc[:,[1,3,5,7]].copy()\n",
    "D_Dst2.columns = ['TFD_Dst','FC_Dst','TVD_Dst','VC_Dst']\n",
    "D_HighDst = D_Dst2.loc[HighD,:].copy()\n",
    "D_HighDst = D_HighDst.reset_index()\n",
    "D_LowDst = D_Dst2.loc[LowD,:].copy()\n",
    "D_LowDst = D_LowDst.reset_index()\n",
    "\n",
    "D_HighBoth = D_HighRec.merge(D_HighDst, how='left', left_index=True, right_index=True)\n",
    "D_HighBoth['Group'] = 'High'\n",
    "D_LowBoth = D_LowRec.merge(D_LowDst, how='left', left_index=True, right_index=True)\n",
    "D_LowBoth['Group'] = 'Low'\n",
    "D_Both = pd.concat([D_HighBoth,D_LowBoth])\n",
    "#D_Both.columns = 'Img'"
   ]
  },
  {
   "cell_type": "markdown",
   "metadata": {},
   "source": [
    "## Depression"
   ]
  },
  {
   "cell_type": "code",
   "execution_count": 8,
   "metadata": {
    "collapsed": true
   },
   "outputs": [],
   "source": [
    "df_HighD_D = pd.concat([D_Rec.loc[HighD,:],D_Dst.loc[HighD,:]])\n",
    "df_HighD_D['Group'] = 'High'\n",
    "df_LowD_D = pd.concat([D_Rec.loc[LowD,:],D_Dst.loc[LowD,:]])\n",
    "df_LowD_D['Group'] = 'Low'\n",
    "D_VPC = pd.concat([df_HighD_D,df_LowD_D])\n",
    "#D_VPC = D_VPC.sort_values(by='Img',axis=0).sort_index"
   ]
  },
  {
   "cell_type": "code",
   "execution_count": 22,
   "metadata": {
    "collapsed": false
   },
   "outputs": [
    {
     "data": {
      "text/html": [
       "<div>\n",
       "<style>\n",
       "    .dataframe thead tr:only-child th {\n",
       "        text-align: right;\n",
       "    }\n",
       "\n",
       "    .dataframe thead th {\n",
       "        text-align: left;\n",
       "    }\n",
       "\n",
       "    .dataframe tbody tr th {\n",
       "        vertical-align: top;\n",
       "    }\n",
       "</style>\n",
       "<table border=\"1\" class=\"dataframe\">\n",
       "  <thead>\n",
       "    <tr style=\"text-align: right;\">\n",
       "      <th></th>\n",
       "      <th>TFD</th>\n",
       "      <th>FC</th>\n",
       "      <th>TVD</th>\n",
       "      <th>VC</th>\n",
       "    </tr>\n",
       "  </thead>\n",
       "  <tbody>\n",
       "    <tr>\n",
       "      <th>count</th>\n",
       "      <td>54.000000</td>\n",
       "      <td>54.000000</td>\n",
       "      <td>54.000000</td>\n",
       "      <td>54.000000</td>\n",
       "    </tr>\n",
       "    <tr>\n",
       "      <th>mean</th>\n",
       "      <td>1.350185</td>\n",
       "      <td>6.166667</td>\n",
       "      <td>1.810370</td>\n",
       "      <td>1.962963</td>\n",
       "    </tr>\n",
       "    <tr>\n",
       "      <th>std</th>\n",
       "      <td>0.829400</td>\n",
       "      <td>3.357616</td>\n",
       "      <td>1.085962</td>\n",
       "      <td>0.989815</td>\n",
       "    </tr>\n",
       "    <tr>\n",
       "      <th>min</th>\n",
       "      <td>0.000000</td>\n",
       "      <td>0.000000</td>\n",
       "      <td>0.000000</td>\n",
       "      <td>0.000000</td>\n",
       "    </tr>\n",
       "    <tr>\n",
       "      <th>25%</th>\n",
       "      <td>0.735000</td>\n",
       "      <td>4.000000</td>\n",
       "      <td>1.035000</td>\n",
       "      <td>1.000000</td>\n",
       "    </tr>\n",
       "    <tr>\n",
       "      <th>50%</th>\n",
       "      <td>1.310000</td>\n",
       "      <td>6.000000</td>\n",
       "      <td>1.700000</td>\n",
       "      <td>2.000000</td>\n",
       "    </tr>\n",
       "    <tr>\n",
       "      <th>75%</th>\n",
       "      <td>1.680000</td>\n",
       "      <td>8.000000</td>\n",
       "      <td>2.607500</td>\n",
       "      <td>3.000000</td>\n",
       "    </tr>\n",
       "    <tr>\n",
       "      <th>max</th>\n",
       "      <td>3.320000</td>\n",
       "      <td>12.000000</td>\n",
       "      <td>4.130000</td>\n",
       "      <td>4.000000</td>\n",
       "    </tr>\n",
       "  </tbody>\n",
       "</table>\n",
       "</div>"
      ],
      "text/plain": [
       "             TFD         FC        TVD         VC\n",
       "count  54.000000  54.000000  54.000000  54.000000\n",
       "mean    1.350185   6.166667   1.810370   1.962963\n",
       "std     0.829400   3.357616   1.085962   0.989815\n",
       "min     0.000000   0.000000   0.000000   0.000000\n",
       "25%     0.735000   4.000000   1.035000   1.000000\n",
       "50%     1.310000   6.000000   1.700000   2.000000\n",
       "75%     1.680000   8.000000   2.607500   3.000000\n",
       "max     3.320000  12.000000   4.130000   4.000000"
      ]
     },
     "execution_count": 22,
     "metadata": {},
     "output_type": "execute_result"
    }
   ],
   "source": [
    "D_Dst.loc[HighD,:].describe()"
   ]
  },
  {
   "cell_type": "markdown",
   "metadata": {},
   "source": [
    "## Analysis"
   ]
  },
  {
   "cell_type": "code",
   "execution_count": 57,
   "metadata": {
    "collapsed": true
   },
   "outputs": [],
   "source": [
    "from sklearn.linear_model import LogisticRegression\n",
    "from sklearn.metrics import accuracy_score"
   ]
  },
  {
   "cell_type": "code",
   "execution_count": 70,
   "metadata": {
    "collapsed": false
   },
   "outputs": [
    {
     "data": {
      "text/plain": [
       "0.79761904761904767"
      ]
     },
     "execution_count": 70,
     "metadata": {},
     "output_type": "execute_result"
    }
   ],
   "source": [
    "X = D_Both[['TFD_Rec','TFD_Dst','TVD_Rec','TVD_Dst','FC_Rec','FC_Dst','VC_Rec','VC_Dst']]\n",
    "y = D_Both['Group']\n",
    "lr = LogisticRegression()\n",
    "lr.fit(X,y)\n",
    "preds = lr.predict(X)\n",
    "\n",
    "accuracy_score(y,preds)"
   ]
  },
  {
   "cell_type": "markdown",
   "metadata": {},
   "source": [
    "## Scrap"
   ]
  },
  {
   "cell_type": "code",
   "execution_count": 55,
   "metadata": {
    "collapsed": false
   },
   "outputs": [
    {
     "data": {
      "text/plain": [
       "{500, 510, 512, 514, 516, 518, 519, 522, 523}"
      ]
     },
     "execution_count": 55,
     "metadata": {},
     "output_type": "execute_result"
    }
   ],
   "source": [
    "A_Imgs = ['500','510', '512', '514', '516', '518', '519', '522', '523']\n",
    "A_Imgs = list(map(int,A_Imgs))\n",
    "\n",
    "df_VPCitems = pd.read_csv('VPCitems.csv', header=1, index_col=0)\n",
    "old_Items = df_VPCitems['Old'].to_dict()\n",
    "\n",
    "test = set(A_Imgs) & set(old_Items)\n",
    "old_Items\n",
    "test"
   ]
  }
 ],
 "metadata": {
  "kernelspec": {
   "display_name": "Python 3",
   "language": "python",
   "name": "python3"
  },
  "language_info": {
   "codemirror_mode": {
    "name": "ipython",
    "version": 3
   },
   "file_extension": ".py",
   "mimetype": "text/x-python",
   "name": "python",
   "nbconvert_exporter": "python",
   "pygments_lexer": "ipython3",
   "version": "3.6.0"
  }
 },
 "nbformat": 4,
 "nbformat_minor": 2
}
